{
 "cells": [
  {
   "cell_type": "markdown",
   "metadata": {},
   "source": [
    "# 1. Import libraries"
   ]
  },
  {
   "cell_type": "code",
   "execution_count": 29,
   "metadata": {},
   "outputs": [
    {
     "name": "stdout",
     "output_type": "stream",
     "text": [
      "The autoreload extension is already loaded. To reload it, use:\n",
      "  %reload_ext autoreload\n"
     ]
    }
   ],
   "source": [
    "\n",
    "from llama_parse import LlamaParse\n",
    "from llama_index.core import Settings\n",
    "from llama_index.core import StorageContext\n",
    "from llama_index.core import VectorStoreIndex\n",
    "from llama_index.core.node_parser import MarkdownElementNodeParser\n",
    "from llama_index.llms.openai import OpenAI\n",
    "from llama_index.embeddings.openai import OpenAIEmbedding\n",
    "from llama_index.core import SimpleDirectoryReader\n",
    "from llama_index.vector_stores.pinecone import PineconeVectorStore\n",
    "from IPython.display import Markdown, display\n",
    "from llama_index.postprocessor.cohere_rerank import CohereRerank\n",
    "from pinecone import Pinecone, ServerlessSpec\n",
    "\n",
    "\n",
    "# llama-parse is async-first, this is needed in order to run async code in notebooks\n",
    "import nest_asyncio\n",
    "nest_asyncio.apply()\n",
    "\n",
    "import os\n",
    "from dotenv import load_dotenv\n",
    "load_dotenv()\n",
    "\n",
    "%load_ext autoreload\n",
    "%autoreload 2"
   ]
  },
  {
   "cell_type": "markdown",
   "metadata": {},
   "source": [
    "# 2. Pinecone Setup todo"
   ]
  },
  {
   "cell_type": "code",
   "execution_count": 30,
   "metadata": {},
   "outputs": [],
   "source": [
    "pc = Pinecone()\n"
   ]
  },
  {
   "cell_type": "code",
   "execution_count": null,
   "metadata": {},
   "outputs": [],
   "source": [
    "# Dimensions are for text-embedding-ada-002\n",
    "try:\n",
    "    pc.create_index(\n",
    "        \"quickstart-index\",\n",
    "        dimension=1536,\n",
    "        metric=\"euclidean\",\n",
    "        spec=ServerlessSpec(cloud=\"aws\", region=\"us-west-2\"),\n",
    "    )\n",
    "except Exception as e:\n",
    "    # Most likely index already exists\n",
    "    print(e)\n",
    "    pass"
   ]
  },
  {
   "cell_type": "code",
   "execution_count": 34,
   "metadata": {},
   "outputs": [],
   "source": [
    "pinecone_index = pc.Index(\"nuclear-rag\")#or quickstart-index\"\n",
    "vector_store = PineconeVectorStore(pinecone_index=pinecone_index)\n",
    "storage_context = StorageContext.from_defaults(vector_store=vector_store)\n",
    "\n"
   ]
  },
  {
   "cell_type": "markdown",
   "metadata": {},
   "source": [
    "# 3. Setup LLM and Embedding models "
   ]
  },
  {
   "cell_type": "code",
   "execution_count": 16,
   "metadata": {},
   "outputs": [],
   "source": [
    "EMBEDDING_MODEL  = \"text-embedding-3-large\"\n",
    "GENERATION_MODEL = \"gpt-4-turbo-2024-04-09\" \n",
    "\n",
    "llm = OpenAI(model=GENERATION_MODEL)\n",
    "embed_model = OpenAIEmbedding(model=EMBEDDING_MODEL)\n",
    "\n",
    "Settings.llm = llm\n",
    "Settings.embed_model = embed_model"
   ]
  },
  {
   "cell_type": "markdown",
   "metadata": {},
   "source": [
    "# 4. Load and Parse Data via LLamaParse \n",
    "\n",
    "https://github.com/run-llama/llama_parse"
   ]
  },
  {
   "cell_type": "code",
   "execution_count": 4,
   "metadata": {},
   "outputs": [],
   "source": [
    "pdf_files_location= './data'\n",
    "pdf_paths = []\n",
    "for file in os.listdir(pdf_files_location):\n",
    "    pdf_paths.append(os.path.join(pdf_files_location, file))\n"
   ]
  },
  {
   "cell_type": "code",
   "execution_count": 5,
   "metadata": {},
   "outputs": [
    {
     "data": {
      "text/plain": [
       "['./data/180340.pdf']"
      ]
     },
     "execution_count": 5,
     "metadata": {},
     "output_type": "execute_result"
    }
   ],
   "source": [
    "pdf_paths"
   ]
  },
  {
   "cell_type": "code",
   "execution_count": 6,
   "metadata": {},
   "outputs": [],
   "source": [
    "parsing_instructions = '''The documents you are parsing today are about the Mechanisms Engineering Test Loop (METL) facilities. The documents include details of METL facilities and critical components that serve as a means to explore and engineer thermal hydraulic sodium cooled loop tests for advanced nuclear reactors. The authors explain in detail how METL components work, and demonstrate rules and handlings that must be followed during the experiments. Technical reports illustrate information about designing, performing, testing, and inspecting experiments. In addition, instrumentation and control capabilities are provided in detail.'''\n"
   ]
  },
  {
   "cell_type": "code",
   "execution_count": 7,
   "metadata": {},
   "outputs": [
    {
     "data": {
      "text/plain": [
       "'The documents you are parsing today are about the Mechanisms Engineering Test Loop (METL) facilities. The documents include details of METL facilities and critical components that serve as a means to explore and engineer thermal hydraulic sodium cooled loop tests for advanced nuclear reactors. The authors explain in detail how METL components work, and demonstrate rules and handlings that must be followed during the experiments. Technical reports illustrate information about designing, performing, testing, and inspecting experiments. In addition, instrumentation and control capabilities are provided in detail.'"
      ]
     },
     "execution_count": 7,
     "metadata": {},
     "output_type": "execute_result"
    }
   ],
   "source": [
    "parsing_instructions"
   ]
  },
  {
   "cell_type": "code",
   "execution_count": 8,
   "metadata": {},
   "outputs": [
    {
     "name": "stderr",
     "output_type": "stream",
     "text": [
      "Parsing files: 100%|██████████| 1/1 [00:04<00:00,  4.52s/it]\n"
     ]
    }
   ],
   "source": [
    "documents = LlamaParse(result_type=\"markdown\", parsing_instructions=parsing_instructions, num_worker=-1,verbose=True,language=\"en\")\\\n",
    "    .load_data(pdf_paths)\n"
   ]
  },
  {
   "cell_type": "code",
   "execution_count": 9,
   "metadata": {},
   "outputs": [
    {
     "data": {
      "text/plain": [
       "Document(id_='76552de3-76c8-48e3-ba7a-1175cff37548', embedding=None, metadata={}, excluded_embed_metadata_keys=[], excluded_llm_metadata_keys=[], relationships={}, text='# Argonne National Laboratory\\n\\nANL-ART-263\\n\\nNATIONAL LABORATORY ANL-METL-44\\n\\n# Mechanisms Engineering Test Loop (METL) Experimenter’s Guide\\n\\nNuclear Science and Engineering Division\\n---\\nAbout Argonne National Laboratory\\nArgonne is a U.S. Department of Energy laboratory managed by UChicago Argonne, LLC\\nunder contract DE-AC02-06CH11357. The Laboratory’s main facility is outside Chicago, at\\n9700 South Cass Avenue, Lemont, Illinois 60439. For information about Argonne\\nand its pioneering science and technology programs, see www.anl.gov.\\n\\n# DOCUMENT AVAILABILITY\\n\\nOnline Access:\\nU.S. Department of Energy (DOE) reports produced after 1991 and a growing number of pre-1991 documents are available free at OSTI.GOV (http://www.osti.gov/), a service of the US Dept. of Energy’s Office of Scientific and Technical Information.\\n\\nReports not in digital format may be purchased by the public from the National Technical Information Service (NTIS):\\n\\nU.S. Department of Commerce\\n\\nNational Technical Information Service\\n\\n5301 Shawnee Rd\\n\\nAlexandria, VA 22312\\n\\nwww.ntis.gov\\n\\nPhone: (800) 553-NTIS (6847) or (703) 605-6000\\n\\nFax: (703) 605-6900\\n\\nEmail: orders@ntis.gov\\n\\nReports not in digital format are available to DOE and DOE contractors from the Office of Scientific and Technical Information (OSTI):\\n\\nU.S. Department of Energy\\n\\nOffice of Scientific and Technical Information\\n\\nP.O. Box 62\\n\\nOak Ridge, TN 37831-0062\\n\\nwww.osti.gov\\n\\nPhone: (865) 576-8401\\n\\nFax: (865) 576-5728\\n\\nEmail: reports@osti.gov\\n\\nDisclaimer\\nThis report was prepared as an account of work sponsored by an agency of the United States Government. Neither the United\\nStates Government nor any agency thereof, nor UChicago Argonne, LLC, nor any of their employees or officers, makes any\\nwarranty, express or implied, or assumes any legal liability or responsibility for the accuracy, completeness, or usefulness of any\\ninformation, apparatus, product, or process disclosed, or represents that its use would not infringe privately owned rights.\\nReference herein to any specific commercial product, process, or service by trade name, trademark, manufacturer, or otherwise,\\ndoes not necessarily constitute or imply its endorsement, recommendation, or favoring by the United States Government or any\\nagency thereof. The views and opinions of document authors expressed herein do not necessarily state or reflect those of the\\nUnited States Government or any agency thereof, Argonne National Laboratory, or UChicago Argonne, LLC.\\n---\\n# Mechanisms Engineering Test Loop (METL) Experimenter’s Guide\\n\\nAuthors: M. Hvasta, E. Kent, D. Kultgen, M. Weathered, J. Rein, A. Grannan, and C. Grandy\\nArgonne National Laboratory\\n\\nDecember 2022\\n---\\n# Mechanisms Engineering Test Loop (METL) Experimenter’s Guide December 2022\\n\\n# TABLE OF CONTENTS\\n\\nList of Figures iii\\n\\nList of Tables iv\\n\\n# 1 Introduction\\n\\n# 2 METL Overview and Experimental Capabilities\\n\\n# 3 Designing an Experiment for METL\\n\\n|3.1|Required Laboratory Policies|9|\\n|---|---|---|\\n|3.2|Test Vessel Design Constraints|9|\\n|3.3|General Design Considerations|13|\\n\\n# 4 Roles & Responsibilities: Planning, Operation, and Close-Out\\n\\n|4.1|Project Kickoff and Test Article Design|16|\\n|---|---|---|\\n|4.2|Design Review(s)|16|\\n|4.3|Assembly and Testing|16|\\n|4.4|Qualification for Insertion into METL|17|\\n|4.5|Insertion into METL Test Vessel|17|\\n|4.6|Operations|17|\\n|4.7|Conclusion of Operations|18|\\n|4.8|Removal from METL|18|\\n|4.9|Cleaning the Test Article|18|\\n|4.10|Disassembly|19|\\n|4.11|Project close-out|19|\\n|4.12|Project Clean-Up and Close-Out|19|\\n\\n# 5 Reference Materials\\n\\n|5.1|METL Publications & Reports|19|\\n|---|---|---|\\n|5.2|Laboratory Safety & Work Planning|19|\\n|5.3|General Information & Best Practices for Sodium Systems|20|\\n\\n# 6 Glossary\\n---\\n# Mechanisms Engineering Test Loop (METL) Experimenter’s Guide\\n\\nDecember 2022\\n\\n# LIST OF FIGURES\\n\\n|Figure 1 - The METL piping & instrumentation diagram (P&ID).|3|\\n|---|---|\\n|Figure 2 - A depiction of the flow within a test vessel. Valves can also be used to isolate a test vessel from the rest of the system.|4|\\n|Figure 3- METL 18\" vessel showing dimensions and sodium elevation.|5|\\n|Figure 4- METL 28\" vessel.|6|\\n|Figure 5 - The METL expansion tank.|7|\\n|Figure 6 - The METL dump tank.|8|\\n|Figure 7 - Adaptor Flange for Instrumentation Testing.|9|\\n|Figure 8 - Flexicask shown on the 18-inch test vessel. The yellow shroud is now made from clear plastic.|11|\\n|Figure 9 - Isometric View of 18-inch Test Stand.|12|\\n|Figure 10 - Picture of the Gear Test Assembly on the 18-inch test stand on the METL Mezzanine being prepared for insertion.|13|\\n---\\n**LIST OF TABLES**\\n|Table 1 - METL Components and Support Systems.|1|\\n|---|---|\\n|Table 2 - An Overview of METL.|2|\\n|Table 3 - Design restrictions for the 18” and 28” test vessels.|10|\\n|Table 4 - Power Available Near METL Vessels|14|\\n---\\n# Introduction\\n\\nThe Mechanisms Engineering Test Loop (METL) was built to streamline and accelerate the in-sodium testing of systems and components under conditions that simulate a sodium-cooled fast reactor pool environment. The METL team at Argonne National Laboratory (ANL) can assist experimenters in achieving their technical goals by providing liquid-metal expertise and access to infrastructure required for most alkali metal related research. This document offers a brief overview of METL and provides a basic design guide for researchers interested in conducting research at the facility. Additional information regarding the history and operations of METL can be found in §6.1. Furthermore, high resolution images found in this document as well as CAD files of aforementioned vessels can be provided upon request.\\n\\n# METL Overview and Experimental Capabilities\\n\\nMETL is located at ANL in the Bldg. 308 hi-bay, which was built to accommodate large alkali metal research projects. As shown in Figure 1, METL consists of support systems and experimental test vessels connected in parallel to a primary piping loop. The support systems listed in Table 1 are operated by METL staff and provide the infrastructure and functionality required for most experiments. Table 2 provides the range of operating conditions for different METL components.\\n\\nExperiments in METL are installed in either an 18-inch or 28-inch test vessel. Figure 1 shows a simplified P&ID of a test vessel with sodium and gas connections labeled. Figure 3 and Figure 4 present elevation views of the 18-inch and 28-inch vessels respectively.\\n\\n**METL Components and Support Systems**\\n|Component / Support System|Function / Details|\\n|---|---|\\n|Scrubber|Sodium disposal, clean-up, fire/smoke management|\\n|Catch pan|Sodium spill containment and fire prevention|\\n|Pumps & flowmeters|Sodium flow control (0-10 [gpm], 0-100 [psid])|\\n|Valves|Welded bellows, electro-pneumatic sodium flow control and system isolation|\\n|Cold trap & plugging meter|Impurity removal and quantification|\\n|Dump tank|Sodium storage, dump/drain, level sensing|\\n|Expansion tank|Accommodate changes in sodium volume, level sensing|\\n|Argon cover gas|High-purity, inert cover gas, fill/drain operation|\\n|Pressure transducers|NaK diaphragm type, pressure measurements in sodium and gas space|\\n|Vacuum systems|Fill/drain operation, air removal, entrained gas removal|\\n|Vapor Traps|Removal of sodium vapor from vented cover gas|\\n|Heaters & temperature control|Room temp – 1000 or 1200 [°F] (system specific)|\\n|Data acquisition / control system|Data logging and system control|\\n|Carbonation system|Sodium clean-up and removal from test articles|\\n|Flexicask|Insertion/removal of test articles while under cover gas|\\n|Crane|Moving hardware, installation of test equipment|\\n|Glovebox|Perform room-temp work in an inert environment|\\n---\\n# Mechanisms Engineering Test Loop (METL) Experimenter’s Guide\\nDecember 2022\\n\\n|System / Topic / Parameter|Table 2 - An Overview of METL.|Value|\\n|---|---|---|\\n|R-Grade Sodium Inventory|Current inventory = 750 [gal] (as of Aug. 2021)| |\\n| |Dump tank capacity = 840 [gal]| |\\n| |Catch pan capacity = approx. 1000 [gal]| |\\n|Electric Power| |~ 1 [MW]|\\n|Sodium Purity| |~ <=5 [wppm] oxygen|\\n|Main Loop Flow Rate| |0-10 [gpm]|\\n|18” Vessel| | |\\n| |18” nominal vessel with a minimum wall thickness of 0.328”| |\\n| |Height = approx. 34.25”| |\\n| |Internal Capacity = approx. 40 [gal]| |\\n| |Static operation = Room Temp – 1000 [°F]| |\\n| |Dynamic operation = 250 - 1000 [°F]| |\\n| |Rated pressure = 100 [psig] @ 1000 [°F]| |\\n|28” Vessel| | |\\n| |28” nominal vessel with a minimum wall thickness of 0.615”| |\\n| |Height = approx. 62 5/16”| |\\n| |Internal Capacity = approx. 170 [gal]| |\\n| |Static operation = Room Temp – 1200 [°F]| |\\n| |Dynamic operation = 250 - 1000 [°F]| |\\n| |Rated pressure = 100 [psig] @ 1200 [°F]| |\\n|Expansion Tank| | |\\n| |Inner diam. = approx. 8.5”| |\\n| |Height = approx. 80”| |\\n| |Internal Capacity = approx. 20 [gal]| |\\n| |Static operation = Room Temp – 1000 [°F]| |\\n| |Dynamic operation = 250 - 1000 [°F]| |\\n| |Rated pressure = 100 [psig] @ 1200 [°F]| |\\n|Dump Tank| | |\\n| |Inner diam. = approx. 41”| |\\n| |Length = approx. 151”| |\\n| |Internal Capacity = approx. 840 [gal]| |\\n| |Static operation = Room Temp – 1000 [°F]| |\\n| |Dynamic operation = 250 - 1000 [°F]| |\\n| |Rated pressure = 200 [psig] @ 1000 [°F]| |\\n|Crane Access (Bldg. 308 hi-bay)| | |\\n| |20 [ton] w/ 5 [ton] auxiliary. The height of the inside of the| |\\n| |5-ton crane hook to the top of each vessel (vessel with no| |\\n| |flange) is 189-190 inches. This crane hook height value is| |\\n| |the same for both the 18 and 28 inch vessels.| |\\n\\nNotes & Conversions\\n\\n1000 [°F] ≈ 538 [°C]\\n\\n1200 [°F] ≈ 650 [°C]\\n\\n100 [psi] ≈ 6.89 [bar]\\n\\n1 [gal] ≈ 3.78 [liter]\\n\\nANL-ART-263 / ANL-METL-44\\n---\\n# Mechanisms Engineering Test Loop (METL) Experimenter’s Guide\\n\\nDecember 2022\\n\\n|U|634|Ueter|8 5|\\n|---|---|---|---|\\n|Rnkaon| | | |\\n|Veagel Vent 3/4\" Plpe| | | |\\n|Raturr 11/7 3/4\" Ripa| | | |\\n|slaply| | | |\\n|Pump| | | |\\n|Vozuut 1-1/2 73187| | | |\\n|ISSUED FOR2015|Supol| | |\\n|CONSTRUCTION| | | |\\n|FAIDD| | | |\\n|Figure 1 - The METL piping & instrumentation diagram (P&ID).| | | |\\n\\nANL-ART-263 / ANL-METL-44\\n\\n3\\n---\\n# Mechanisms Engineering Test Loop (METL) Experimenter’s Guide\\n\\nDecember 2022\\n\\n|ARCON|VENT To|\\n|---|---|\\n|ERESSUGEcR-|VAPOR|TRAP|\\n| |SUPPLY|\\n|VESSEL|OVERFLOW|\\n|RETURN|DRAIN|\\n\\nFigure 2 - A depiction of the flow within a test vessel. Valves can also be used to isolate a test vessel from the rest of the system.\\n\\nANL-ART-263 / ANL-METL-44\\n---\\n# Mechanisms Engineering Test Loop (METL) Experimenter’s Guide\\n\\nDecember 2022\\n\\nCERAC\\nFigure 3- METL 18\" vessel showing dimensions and sodium elevation.\\nANL-ART-263 / ANL-METL-44\\n\\n5\\n---\\n# Mechanisms Engineering Test Loop (METL) Experimenter’s Guide\\n\\nDecember 2022\\n\\n|LEVEL|VESSEL|DEPTH|50.1 WD|SODIUM|CUEFOL|SODIUM INLET|\\n|---|---|---|---|---|---|---|\\n||||||||\\n\\nANL-ART-263 / ANL-METL-44\\n---\\n# Mechanisms Engineering Test Loop (METL) Experimenter’s Guide\\n\\nDecember 2022\\n\\nInstrumentation Ports\\nSupports &\\nSodium Inlet\\nSodium Outlet\\n\\nFigure 5 - The METL expansion tank.\\n\\nANL-ART-263 / ANL-METL-44\\n\\n7\\n---\\n# Mechanisms Engineering Test Loop (METL) Experimenter’s Guide\\n\\nDecember 2022\\n\\n|Gunced END|SIDE VIEW|C-PTUREC ENC|\\n|---|---|---|\\n|BARS RECDE|SCALE 1 / 20|16 3425 REOD|\\n\\nBOTTOM VIEW\\n\\nSCALE\\n\\nFigure 6 - The METL dump tank.\\n\\nANL-ART-263 / ANL-METL-44\\n\\n8\\n---\\n# Designing an Experiment for METL\\n\\nThis section will describe design considerations for METL experiments. A METL team member will be assigned to support the design of an experiment destined for METL testing.\\n\\n# Required Laboratory Policies\\n\\nAll tests conducted at ANL must adhere to the Work Planning and Control (WPC) and Integrated Safety Management (ISM) practices as required by the Department of Energy (DOE). The METL team will ensure that experiments originating outside of ANL conform to ANL’s work planning and control processes.\\n\\n# Test Vessel Design Constraints\\n\\nVessel experiments will be installed in either an 18-inch or 28-inch METL test vessel. These vessels have several constraints and experimenters must design their test articles within these parameters. Table 3 lists the 18-inch and 28-inch vessel constraints required to ensure safe and successful operation.\\n\\nAn adapter flange is also available for smaller component or instrumentation testing. This flange has one 8” 300# ANSI flange, two 3.5” Grayloc ports, four 1.5” Grayloc ports, and one 1” Grayloc Port. (Figure 7).\\n\\nFigure 7 - Adaptor Flange for Instrumentation Testing\\n---\\n# Mechanisms Engineering Test Loop (METL) Experimenter’s Guide\\n\\nDecember 2022\\n\\nIn addition to vessel constraints, there are also space constraints on the METL mezzanine deck due to vessel supporting equipment. Generally, test articles designed within the flange footprint will have fewer deck-space considerations. However, if the test article requires additional space, experimenters must consult with METL team members to create the best solution within the given deck-space constraints.\\n\\n|18” Test Vessel|28” Test Vessel|\\n|---|---|\\n|Required flange type|ANSI B16.5 Class 300 18” RF Blind Flange in 304/304L (See Figure 3)|ANSI B16.47 Series B Class 400 28” RF Blind Flange in 304H Stainless steel (See Figure 4)|\\n|Vessel dimensions|18” nominal vessel with thickness of 0.328” min. Height = approx. 34.25” (See Figure 2)|28” nominal vessel with thickness of 0.615” min. Height = approx. 62.31” (See Figure 3)|\\n|Max test article weight|2,847 lbm (includes the vessel cover at 397 lbm)|5,784 lbm (includes the vessel cover at 1,111 lbm)|\\n|Max test article size|Maximum diameter of test article below flange face: 15.75” to allow ~0.75” clearance of inside vessel|Maximum diameter of test article below flange face: 25.25” to allow ~0.75” clearance of inside vessel|\\n|Max test temp/pressure|Static operation – Room temp – 1200 [°F] Dynamic operation = 250 - 1000 [°F] Rated pressure = 100 [psig] @ 1000 [°F]|Static operation = Room Temp – 1200 [°F] Dynamic operation = 250 - 1000 [°F] Rated pressure = 100 [psig] @ 1200 [°F]|\\n|Availability of Test Assembly Test Stand?|Yes – a test stand is available for the 18-inch test articles|Yes – a test stand is available for the 28-inch test articles|\\n\\nANL-ART-263 / ANL-METL-44\\n---\\n# Mechanisms Engineering Test Loop (METL) Experimenter’s Guide\\n\\nDecember 2022\\n\\n|PORT A|SHROUD|\\n|---|---|\\n| |106|\\n| |TRANSFER WELDMENT VESSEL|\\n|PORT B| |\\n|PORT C| |\\n| |76.74|\\n\\nFigure 8 - Flexicask shown on the 18-inch test vessel. The yellow shroud is now made from clear plastic.\\n\\nIn addition to the mezzanine deck space constraints, the vessel assembly test stand will have additional space constraints. These test stands are available to aid in assembly and disassembly\\n\\nANL-ART-263 / ANL-METL-44\\n\\n11\\n---\\n# Mechanisms Engineering Test Loop (METL) Experimenter’s Guide\\n\\nDecember 2022\\n\\nof both 18-inch and 28-inch flange test articles. Figure 9 shows an isometric view of the 18-inch test stand. The test article flange is bolted to the test stand which can be used to rotate a test article upside-down if required if an experimenter wishes to use the “flipping” feature. The geometric constraints of the test article are included in Table 3. Figure 10 shows a test assembly installed on the test stand awaiting installation into a METL test vessel.\\n\\nFigure 9 - Isometric View of 18-inch Test Stand\\n---\\n# Mechanisms Engineering Test Loop (METL) Experimenter’s Guide\\n\\nDecember 2022\\n\\nFigure 10 - Picture of the Gear Test Assembly on the 18-inch test stand on the METL Mezzanine being prepared for insertion.\\n\\n# 3.3 General Design Considerations\\n\\nIn addition to vessel-specific constraints there are also some general constraints for all METL test articles.\\n\\n- Relevant industry codes shall be considered during test article design. METL representatives shall be notified of any code deviation and design may be subject to ANL subject matter expert or authority having jurisdiction approval.\\n- Experiment cover gas pressures should avoid exceeding 15 psig.\\n\\nANL-ART-263 / ANL-METL-44\\n---\\n# Mechanisms Engineering Test Loop (METL) Experimenter’s Guide\\nDecember 2022\\n\\n• Wetted surfaces must be constructed of materials compatible with high-temperature sodium. Material compatibility charts are available in the §6.3 references. Note: organic and halogenated materials are prohibited.\\n\\n• Experiments should consider compatibility with the Building 308 crane and the Flexi-cask system.\\n\\n• Test articles should be designed to drain the maximum amount of sodium as possible. Include gravity drain ports wherever possible.\\n\\n• Test articles shall constrain or secure any parts which have a tendency to break loose and are smaller than a vessel drain inner diameter.\\n\\n• The following table (Table 4) provides the power circuits that are available near the indicated vessels. The building has 2,000KVA (total) provided to the building. A portion of that power can be used to support experiments.\\n\\n**Table 4 - Power Available Near METL Vessels**\\n|Vessel|120V 1 phase|240V 1 phase|480 V 3 phase|\\n|---|---|---|---|\\n|Dump Tank|20 amp circuits|100 amp| |\\n|Expansion Tank|20 amp circuits|100 amp| |\\n|Test Vessel 1|20 amp circuits|100 amp|(2) 80 amp|\\n|Test Vessel 2|20 amp circuits|100 amp| |\\n|Test Vessel 3|20 amp circuits|100 amp|(2) 60 amp*|\\n|Test Vessel 4|20 amp circuits|100 amp|(1) 60 amp|\\n\\n*In progress\\n\\nIn addition to vessel-specific and general constraints, the following items should be considered for all METL experiments in no particular order:\\n\\n• Maximum sodium temperature and flowrates.\\n\\n• Power requirements for heating and other test equipment.\\n\\n• Expected test duration.\\n\\n• How much floorspace and/or wall-space will be required for controls, auxiliary equipment, etc.? Is remote operation feasible to conserve space in the Bldg. 308 hi-bay?\\n\\n• How many people will be required to operate an experiment? How often will staff be required to monitor/operate the experiment?\\n\\n• How many test iterations?\\n\\n• Can the experiment withstand (multiple) freeze/thaw cycles, or does it need to be drained? During a prolonged power outage or other emergency, should the test article drain or allow sodium to freeze in place? (See Fink & Leibowitz referenced in §6.3 regarding sodium density changes from room temperature to max operating temperature.)\\n\\n• Could pools or pockets or argon prevent flowing, liquid-sodium from contacting any part of the experiment? (Example – an inverted bowl held underwater or a diving bell.)\\n\\n• How would a fire or other emergency affect the experiment? Could the experiment contribute to or exacerbate a fire or other emergency? Is the experiment ‘walk-away safe’?\\n\\n• How will the components and feedthroughs be sealed? Seals must be sodium, gas, and vacuum (as necessary) compatible. Will moving components require a bellows system?\\n\\nANL-ART-263 / ANL-METL-44\\n---\\n# Mechanisms Engineering Test Loop (METL) Experimenter’s Guide\\n\\nDecember 2022\\n\\nCurrently for some of our test articles, we are using graphite seals and metallic bellows seals.\\n\\n- How will test article cleanliness be assured prior to installation into METL?\\n- Is the experiment compatible with ‘sodium frost’? Sodium frost is the vapor that deposits on the surfaces of components in the gas space of the sodium system.\\n- Does a level sensor need to be incorporated in the design of the test article to ensure there is sufficient sodium volume?\\n- Is there a particularly fragile portion of the system that could be installed by hand on the above flange cover region of the experiment after installing the cover with overhead crane.\\n- Will the experiment create impurities or oxides, and if so, can we identify/quantify to determine if allowable, and if so, if we need to have the cold trap online actively filtering impurity?\\n- The crane is used to pick up and insert (or remove) test articles from the test vessels. The flexicask has an interfacing plate that the rigging points penetrate through in order to maintain the inert atmosphere of the flexicask, but also to ensure that the crane is rigged directly to the test article that is being handled. That interfacing plate will have appropriate holes for rigging equipment and for the items (maybe a shaft) that cannot be removed from the test article when it is being handled.\\n- Some design lessons learned\\n- This section is RESERVED for now, but will be populated in the future.\\n\\n# Roles & Responsibilities: Planning, Operation, and Close-Out\\n\\nThe METL team is responsible for the safe and ongoing operation of the METL facility. Therefore, in addition to assisting all experimenters and facility users in achieving their technical goals, the METL team must ensure that the METL facility continues to adhere to all ANL guidelines regarding safety and conduct. As such, the following steps must be taken in order to conduct a successful experiment in METL. These steps will be described in detail in the following sections.\\n\\n1. Project Kickoff and Test Article Design\\n2. Design Review\\n3. Assembly and Testing (outside of METL)\\n4. Qualification for Insertion into METL\\n5. Insertion into METL Test Vessel\\n6. Operations\\n7. Conclusion of Operations\\n8. Sodium Draining\\n9. Removal from METL\\n10. Cleaning via the carbonation process\\n11. Disassembly\\n12. Return to Step 3 for iterative projects.\\n13. Project close-out\\n\\nTo facilitate and streamline communications between the METL team and experimenters, it is recommended that both parties assign a single point of contact (POC) to document problems as\\n---\\n# Mechanisms Engineering Test Loop (METL) Experimenter’s Guide\\n\\nDecember 2022\\n\\nthey arise and subsequently coordinate and communicate the resolution of all issues during the different phases of the project. The METL team will assign a project coordinator for this project to shepherd the experiment through the experiment phases. The METL team can help customers with the design development of their test articles. In addition, Argonne has on site a Central Shops that can fabricate some components.\\n\\n# 4.1 Project Kickoff and Test Article Design\\n\\nThis section outlines the planning and technical/safety review process.\\n\\n# Kick-off Meeting(s)\\n\\n- Introductions and tour of the METL facility\\n- Discussion of experimental goals and objectives\\n\\n# Basic Planning\\n\\n- Feasibility discussion\\n- Budget and schedule\\n- Possible impact on other experiments connected in parallel to the METL piping system\\n- Talk about ISM, WPC and lab-wide policies\\n\\n# Data Package Preparation / Documentation Requirements\\n\\n- Discussion of what calculations or documentation is required prior to fabrication. Documentation could include literature review, hand calculations, simulations, PE-signoffs, etc.\\n\\n# Fabrication, Inspection, and Acceptance\\n\\n- Determination of what quality assurance (QA) deliverables would be required prior to acceptance by ANL and the METL team. QA deliverables could include material certifications, weld certifications, weld radiographs, helium leak checks, pressure decay tests, cleanliness verification, weight verification, ASME or pressure vessel documentation, etc.\\n\\n# 4.2 Design Review(s)\\n\\nDesign reviews will be completed in regular intervals to ensure the test article meets the requirements for testing in the METL facility. Additionally, these design reviews will serve as checks to ensure the test article meets the desired functions and programmatic requirements. At a minimum, a design review will be conducted after the conceptual, preliminary, and final designs are complete.\\n\\n# 4.3 Assembly and Testing\\n\\nOnce the test article components are fabricated, they will be assembled to verify and ensure that form and fit are adequate. Then, where feasible, the test article will be operated in a non-sodium environment to ensure that it functions correctly. After this verification, the test article can then be qualified for insertion in METL. For example, the Gear Test Assembly (GTA) and the Thermal Hydraulic Experimental Test Article (THETA) were fully assembled at in Building 206 and tested in water. After successful testing in water, they were partially disassembled and\\n\\nANL-ART-263 / ANL-METL-44 16\\n---\\n# Mechanisms Engineering Test Loop (METL) Experimenter’s Guide\\n\\nDecember 2022\\n\\nshipped to Building 308 for qualification and insertion into METL. This testing allowed for the entire assembly, including the controls and data acquisition system, to be tested. Any issues that arise during this testing could then be resolved prior to insertion in the METL facility.\\n\\n# 4.4 Qualification for Insertion into METL\\n\\nPrior to insertion of the test article into the facility, METL team members will qualify the experiment for insertion. These qualifications are on a case-by-case basis but may include:\\n\\n- Review of the design package to ensure that the test article meets the requirements for insertion into METL.\\n- Verify work planning and control paperwork is in place for test article insertion and testing.\\n- Confirm that the test article interfaces with the crane and flexi-cask system.\\n- Find a location for the control system on METL platform.\\n- Perform testing or limited testing of the assembled test article.\\n\\n# 4.5 Insertion into METL Test Vessel\\n\\nAfter a test article is qualified for insertion into METL, a vessel and insertion time schedule will be selected. Prior to insertion, the vessel will be drained of sodium and allowed to cool. Then, the vessel flange will be removed using the flexi-cask system. Next, the flexi-cask is installed on the test article and used during the insertion process. Leak checking should be performed after installation to ensure that all seals are performing appropriately. A helium leak detector system is recommended for this task. After the test article is installed, other components may be installed along with instrumentation, power, and controls. Prior to filling the vessel, a dry run may be completed if necessary. Next, the vessel is preheated to at least 150 °C and filled with sodium from the main loop. Once filled, sodium will be circulated through the main loop, vessel, and into the cold trap purification system to clean the test article and set up the sodium operating conditions. Typically, a vessel is filled by sluicing sodium from the expansion tank or another vessel (that is not undergoing testing) to fill the vessel and then an argon push is performed to increase the sodium level in the vessels to the appropriate height.\\n\\n# 4.6 Operations\\n\\nPrior to formal operations, the test article operation will be checked after the sodium fill to ensure it functions properly. Once these checks are complete, the test article will either be operated by METL staff or by the PI in accordance with the approved test matrix. METL team members will aid with setting up the necessary environment for the experiment testing. This may include heating the vessel and sodium to the desired operating temperature and pressure. Or this may include setting up valve lineups and pump settings to achieve the desired experimental flowrates through the vessel.\\n\\nThe following should be discussed with the non-METL personnel regarding operations:\\n\\n- Once the experiment is installed and operational, what are expectations and responsibilities.\\n- When will data be processed and shared?\\n- How much access will non-METL personnel have to the facility?\\n\\nANL-ART-263 / ANL-METL-44\\n---\\n# 4.7 Conclusion of Operations\\n\\nOnce the test article operations have been completed, the METL operations team will drain the vessel while the test article is at temperature. This allows for maximum removal of sodium from the vessel. Then, the test article will be disconnected from the control, instrumentation, and any power supplies in preparation for removal from the vessel. Additional equipment such as motors, cooling piping, etc. that may interfere with the flexi-cask interface and operations will be removed from the test article. After sodium draining has been completed, the test vessel will be allowed to cool to ambient temperatures.\\n\\n# 4.8 Removal from METL\\n\\nOnce the test article has cooled to ambient temperature, the METL operations team will verify that the test article is prepped for removal from the vessel. After these checks have been completed, the carbonation system will be prepared for receiving the test article. This may include mounting the 18-inch adaptor for those test articles. Then, the flange bolts will be removed and the appropriately sized flexi-cask will be interfaced with the test article. Once in place, the flexi-cask will be lifted with the crane to remove the test article while maintaining an inert environment. After lifting the test article above the flexi-cask doors, both will be closed, and the test article will be transferred to the carbonation system using the crane.\\n\\n# 4.9 Cleaning the Test Article\\n\\nThere are several methods available to remove residual sodium from a test article and its subcomponents. The least energetic, yet longest duration, is the carbonation process. Any 18-inch or 28-inch test article can be installed in the carbonation system available at the METL facility. This system introduces moist carbon dioxide to a reaction vessel that houses the test article. The moist carbon dioxide reacts with the sodium to produce sodium bicarbonate (baking soda). This process is relatively slow and generates little to no heat and is therefore best for projects that wish to maintain the integrity of the test article. We typically process a test article for about 1 week in the carbonation process before it is inspected and removed.\\n\\nThe carbonation process is not capable of reacting 100% of the residual sodium away. Sodium will collect in small clearances and volumes where only a small surface area will be exposed. The carbonation reaction will occur at the exposed sodium layer, but the reaction does not penetrate infinitely into the sodium. If partial disassembly of the article is possible after a round of carbonation, this is advised to expose more unreacted sodium. If partial disassembly is not possible, the components are typically soaked in a static ethanol bath followed by a water bath. The ethanol is used to react away sodium at a slow enough rate to avoid auto ignition of the liberated hydrogen gas. The reaction process can be observed as small bubbles (hydrogen gas) generated at the sodium surface. Once the reaction is determined to be complete (i.e., no bubbles for a few hours) the ethanol can be replaced with water. The water is used to dissolve any remaining reaction products and rinse the components of ethanol. WARNING Both baths are high hazard operations and will be handled by METL staff. For example, the ethanol bath can ignite if sparks are generated during the reaction, so determining safe extinguishing methods is imperative. The water bath is capable of starting a water-sodium reaction if there is\\n---\\n# Mechanisms Engineering Test Loop (METL) Experimenter’s Guide\\nDecember 2022\\n\\nToo much residual sodium left. This is the process used for components that are being reused in future test articles. Finally, any components that are not intended for use after testing and can be disposed of should use the alkali metal passivation booth. Bulk sodium can be melted from components and burned in the AMPB. Then the components can be treated with superheated steam to react the sodium away. This process is high energetic and will likely damage the components. This is only intended for components that are not needed further. This is also the fastest and cheapest method of sodium removal. Work with a METL team member to plan the sodium removal and disassembly for best results.\\n\\n# 4.10 Disassembly\\n\\nDuring this phase of the project, the test article will be removed from the carbonation process and craned to an appropriately sized test stand for disassembly.\\n\\n- Discussion of what calculations or documentation is required prior to fabrication. Documentation could include literature review, hand calculations, simulations, PE-signoffs, etc.\\n\\n# 4.11 Project close-out\\n\\nThe cleaned test article (or cleaned test article parts) will be dispositioned appropriately. Data from the test article experiment will be processed as necessary and shared. Data is typically captured by the test article’s data acquisition system. A final report will be prepared of the testing that was accomplished as required. A review of the METL testing procedures and processes will be conducted so they can be improved in the future.\\n\\n# 4.12 Project Clean-Up and Close-Out\\n\\nThis section addresses topics that must be discussed once a project is complete. Topics include:\\n\\n- Cleanup using carbonation, steam, ethanol, etc.\\n- Removal of equip from METL\\n- Final write-up and deliverables\\n- Review of procedures and processes so they can be improved in the future.\\n\\n# 5 Reference Materials\\n\\nThe following resources provide additional information regarding METL construction/operation, safety & work-planning at ANL, and best-practices for sodium systems.\\n\\n# 5.1 METL Publications & Reports\\n\\n- https://www.anl.gov/nse/mechanisms-engineering-test-loop-facility\\n\\n# 5.2 Laboratory Safety & Work Planning\\n\\n- Integrated Safety Management (ISM)\\n- https://www.anl.gov/integrated-safety-management-program\\n---\\n# Mechanisms Engineering Test Loop (METL) Experimenter’s Guide\\n\\nDecember 2022\\n\\n|Abbreviation|Meaning|\\n|---|---|\\n|ANL|Argonne National Laboratory|\\n|DOE|Department of Energy|\\n|GTA|Gear Test Assembly|\\n|ISM|Integrated Safety Management|\\n|METL|Mechanisms Engineering Test Loop|\\n|POC|Point of Contact|\\n|QA|Quality Assurance|\\n|SFR|Sodium-cooled Fast Reactor|\\n|THETA|Thermal Hydraulic Experimental Test Article|\\n\\n# Work Planning and Control\\n\\n- DOE-HDBK-1211-2014, Activity-Level Work Planning and Control (WPC) Implementation\\n\\n# General Information & Best Practices for Sodium Systems\\n\\n- Liquid Metals Handbook (Sodium NaK Supplement), C. B. Jackson (editor), 1955.\\n- Alkali Metal Handing and System Operating Techniques, J. W. Mausteller et al, 1967.\\n- Sodium-NaK Engineering Handbook, O. J. Foust (editor), 1972.\\n- Thermodynamic and Transport Properties of Sodium Liquid and Vapor, J. K. Fink and L. Leibowitz, 1995.\\n\\n# Glossary\\n---\\n# Argonne NATIONAL LABORATORY\\n\\nNuclear Science and Engineering Division\\n\\nArgonne National Laboratory\\n\\n9700 South Cass Avenue, Bldg. 208\\n\\nArgonne, IL 60439-4842\\n\\nwww.anl.gov\\n\\nU.5 DEPARTMENT OF ENERGY\\n\\nArgonne National Laboratory is a U.S. Department of Energy laboratory managed by UChicago Argonne, LLC', start_char_idx=None, end_char_idx=None, text_template='{metadata_str}\\n\\n{content}', metadata_template='{key}: {value}', metadata_seperator='\\n')"
      ]
     },
     "execution_count": 9,
     "metadata": {},
     "output_type": "execute_result"
    }
   ],
   "source": [
    "documents[0]"
   ]
  },
  {
   "cell_type": "code",
   "execution_count": 10,
   "metadata": {},
   "outputs": [
    {
     "data": {
      "text/plain": [
       "'# Argonne National Laboratory\\n\\nANL-ART-263\\n\\nNATIONAL LABORATORY ANL-METL-44\\n\\n# Mechanisms Engineering Test Loop (METL) Experimenter’s Guide\\n\\nNuclear Science and Engineering Division\\n---\\nAbout Argonne National Laboratory\\nArgonne is a U.S. Department of Energy laboratory managed by UChicago Argonne, LLC\\nunder contract DE-AC02-06CH11357. The Laboratory’s main facility is outside Chicago, at\\n9700 South Cass Avenue, Lemont, Illinois 60439. For information about Argonne\\nand its pioneering science and technology p'"
      ]
     },
     "execution_count": 10,
     "metadata": {},
     "output_type": "execute_result"
    }
   ],
   "source": [
    "documents[0].text[:512]"
   ]
  },
  {
   "cell_type": "code",
   "execution_count": 11,
   "metadata": {},
   "outputs": [
    {
     "data": {
      "text/plain": [
       "dict_keys(['id_', 'embedding', 'metadata', 'excluded_embed_metadata_keys', 'excluded_llm_metadata_keys', 'relationships', 'text', 'start_char_idx', 'end_char_idx', 'text_template', 'metadata_template', 'metadata_seperator'])"
      ]
     },
     "execution_count": 11,
     "metadata": {},
     "output_type": "execute_result"
    }
   ],
   "source": [
    "dict(documents[0]).keys()"
   ]
  },
  {
   "cell_type": "markdown",
   "metadata": {},
   "source": [
    "# 5. Extract text and table nodes"
   ]
  },
  {
   "cell_type": "code",
   "execution_count": 17,
   "metadata": {},
   "outputs": [],
   "source": [
    "node_parser = MarkdownElementNodeParser(llm=llm, num_workers=-1).from_defaults()\n"
   ]
  },
  {
   "cell_type": "code",
   "execution_count": 18,
   "metadata": {},
   "outputs": [
    {
     "name": "stderr",
     "output_type": "stream",
     "text": [
      "15it [00:00, 136178.70it/s]\n",
      "100%|██████████| 15/15 [00:17<00:00,  1.17s/it]\n"
     ]
    }
   ],
   "source": [
    "# Retrieve base nodes (text) and objects (table)\n",
    "nodes = node_parser.get_nodes_from_documents(documents)\n",
    "base_nodes, objects = node_parser.get_nodes_and_objects(nodes)\n"
   ]
  },
  {
   "cell_type": "code",
   "execution_count": 21,
   "metadata": {},
   "outputs": [
    {
     "data": {
      "text/plain": [
       "(19, 15)"
      ]
     },
     "execution_count": 21,
     "metadata": {},
     "output_type": "execute_result"
    }
   ],
   "source": [
    "len(base_nodes), len(objects)"
   ]
  },
  {
   "cell_type": "code",
   "execution_count": 22,
   "metadata": {},
   "outputs": [
    {
     "data": {
      "text/plain": [
       "'Argonne National Laboratory\\n\\nANL-ART-263\\n\\nNATIONAL LABORATORY ANL-METL-44\\n\\n Mechanisms Engineering Test Loop (METL) Experimenter’s Guide\\n\\nNuclear Science and Engineering Division\\n---\\nAbout Argonne National Laboratory\\nArgonne is a U.S. Department of Energy laboratory managed by UChicago Argonne, LLC\\nunder contract DE-AC02-06CH11357. The Laboratory’s main facility is outside Chicago, at\\n9700 South Cass Avenue, Lemont, Illinois 60439. For information about Argonne\\nand its pioneering science and technology prog'"
      ]
     },
     "execution_count": 22,
     "metadata": {},
     "output_type": "execute_result"
    }
   ],
   "source": [
    "base_nodes[0].text[:512]\n"
   ]
  },
  {
   "cell_type": "code",
   "execution_count": 24,
   "metadata": {},
   "outputs": [
    {
     "data": {
      "text/plain": [
       "'The table lists various sections of a document, each detailing different aspects of laboratory policies and design considerations.,\\nwith the following columns:\\n- 3.1: None\\n- Required Laboratory Policies: None\\n- 9: None\\n\\n|3.1|Required Laboratory Policies|9|\\n|---|---|---|\\n|3.2|Test Vessel Design Constraints|9|\\n|3.3|General Design Considerations|13|\\n'"
      ]
     },
     "execution_count": 24,
     "metadata": {},
     "output_type": "execute_result"
    }
   ],
   "source": [
    "objects[0].obj.text[:512]\n"
   ]
  },
  {
   "cell_type": "code",
   "execution_count": 27,
   "metadata": {},
   "outputs": [
    {
     "data": {
      "text/plain": [
       "'The table lists various components and items related to a piping and instrumentation diagram (P&ID) for a project issued for construction in 2015. It includes components like pipes, pumps, and other related items.,\\nwith the following table title:\\nFigure 1 - The METL piping & instrumentation diagram (P&ID).,\\nwith the following columns:\\n- U: None\\n- 634: None\\n- Ueter: None\\n- 8 5: None\\n\\n|U|634|Ueter|8 5|\\n|---|---|---|---|\\n|Rnkaon| | | |\\n|Veagel Vent 3/4\" Plpe| | | |\\n|Raturr 11/7 3/4\" Ripa| | | |\\n|slaply| | | |\\n|Pump| | | |\\n|Vozuut 1-1/2 73187| | | |\\n|ISSUED FOR2015|Supol| | |\\n|CONSTRUCTION| | | |\\n|FAIDD| | | |\\n|Figure 1 - The METL piping & instrumentation diagram (P&ID).| | | |\\n'"
      ]
     },
     "execution_count": 27,
     "metadata": {},
     "output_type": "execute_result"
    }
   ],
   "source": [
    "objects[7].obj.text"
   ]
  },
  {
   "cell_type": "markdown",
   "metadata": {},
   "source": [
    "# 6. Upload data to pinecone"
   ]
  },
  {
   "cell_type": "code",
   "execution_count": 37,
   "metadata": {},
   "outputs": [
    {
     "data": {
      "application/vnd.jupyter.widget-view+json": {
       "model_id": "ccd09440511a4aeabb3a367d06a6729a",
       "version_major": 2,
       "version_minor": 0
      },
      "text/plain": [
       "Upserted vectors:   0%|          | 0/34 [00:00<?, ?it/s]"
      ]
     },
     "metadata": {},
     "output_type": "display_data"
    }
   ],
   "source": [
    "recursive_index = VectorStoreIndex(\n",
    "    base_nodes + objects, storage_context=storage_context\n",
    ")\n"
   ]
  },
  {
   "cell_type": "markdown",
   "metadata": {},
   "source": [
    "# 7. Test query"
   ]
  },
  {
   "cell_type": "code",
   "execution_count": 41,
   "metadata": {},
   "outputs": [],
   "source": [
    "query_engine = recursive_index.as_query_engine()\n",
    "response = query_engine.query(\"What did the author do growing up?\")"
   ]
  },
  {
   "cell_type": "code",
   "execution_count": 42,
   "metadata": {},
   "outputs": [
    {
     "data": {
      "text/markdown": [
       "<b>The provided text does not contain any information about the author's childhood or activities they engaged in while growing up.</b>"
      ],
      "text/plain": [
       "<IPython.core.display.Markdown object>"
      ]
     },
     "metadata": {},
     "output_type": "display_data"
    }
   ],
   "source": [
    "display(Markdown(f\"<b>{response}</b>\"))\n"
   ]
  },
  {
   "cell_type": "code",
   "execution_count": 45,
   "metadata": {},
   "outputs": [],
   "source": [
    "response = query_engine.query(\"What are the basic standard procedures for the METL facilities?\")"
   ]
  },
  {
   "cell_type": "code",
   "execution_count": 46,
   "metadata": {},
   "outputs": [
    {
     "data": {
      "text/markdown": [
       "<b>The basic standard procedures for the METL facilities include:\n",
       "\n",
       "1. **Project Kickoff and Test Article Design**: This involves introductions, a tour of the METL facility, discussions on experimental goals, feasibility, budget, schedule, and impacts on other experiments. It also includes discussions on safety and lab-wide policies.\n",
       "\n",
       "2. **Data Package Preparation / Documentation Requirements**: Before fabrication begins, necessary calculations and documentation such as literature reviews, hand calculations, simulations, and professional engineer sign-offs are required.\n",
       "\n",
       "3. **Fabrication, Inspection, and Acceptance**: This stage involves determining the quality assurance deliverables needed prior to acceptance by ANL and the METL team, which may include material certifications, weld certifications, and various tests and verifications.\n",
       "\n",
       "4. **Design Reviews**: Conducted at various stages (conceptual, preliminary, and final) to ensure the test article meets the METL requirements and desired functions.\n",
       "\n",
       "5. **Assembly and Testing**: Components are assembled and tested in a non-sodium environment to verify correct function before qualifying for insertion into METL.\n",
       "\n",
       "6. **Qualification for Insertion into METL**: Includes reviewing the design package, verifying work planning and control paperwork, confirming interface with the crane and flexi-cask system, and finding a location for the control system on the METL platform.\n",
       "\n",
       "7. **Insertion into METL Test Vessel**: Involves draining and cooling the vessel, removing the vessel flange, installing the flexi-cask, performing leak checks, and installing the test article along with other components. The vessel is then preheated and filled with sodium.\n",
       "\n",
       "These procedures ensure that all tests and experiments conducted at METL adhere to the required safety and quality standards set by the Department of Energy and Argonne National Laboratory.</b>"
      ],
      "text/plain": [
       "<IPython.core.display.Markdown object>"
      ]
     },
     "metadata": {},
     "output_type": "display_data"
    }
   ],
   "source": [
    "display(Markdown(f\"<b>{response}</b>\"))\n"
   ]
  },
  {
   "cell_type": "code",
   "execution_count": null,
   "metadata": {},
   "outputs": [],
   "source": []
  }
 ],
 "metadata": {
  "kernelspec": {
   "display_name": "nlp_pip_39",
   "language": "python",
   "name": "python3"
  },
  "language_info": {
   "codemirror_mode": {
    "name": "ipython",
    "version": 3
   },
   "file_extension": ".py",
   "mimetype": "text/x-python",
   "name": "python",
   "nbconvert_exporter": "python",
   "pygments_lexer": "ipython3",
   "version": "3.9.18"
  }
 },
 "nbformat": 4,
 "nbformat_minor": 2
}
